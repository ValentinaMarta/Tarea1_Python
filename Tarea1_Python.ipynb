{
  "nbformat": 4,
  "nbformat_minor": 0,
  "metadata": {
    "colab": {
      "name": "Tarea1_Python.ipynb",
      "provenance": [],
      "collapsed_sections": [],
      "authorship_tag": "ABX9TyOW77IWif065HTIHDtgth6p",
      "include_colab_link": true
    },
    "kernelspec": {
      "name": "python3",
      "display_name": "Python 3"
    },
    "language_info": {
      "name": "python"
    }
  },
  "cells": [
    {
      "cell_type": "markdown",
      "metadata": {
        "id": "view-in-github",
        "colab_type": "text"
      },
      "source": [
        "<a href=\"https://colab.research.google.com/github/ValentinaMarta/Tarea1_Python/blob/main/Tarea1_Python.ipynb\" target=\"_parent\"><img src=\"https://colab.research.google.com/assets/colab-badge.svg\" alt=\"Open In Colab\"/></a>"
      ]
    },
    {
      "cell_type": "code",
      "execution_count": null,
      "metadata": {
        "id": "OP2N6Yd8JpdJ"
      },
      "outputs": [],
      "source": [
        ""
      ]
    },
    {
      "cell_type": "markdown",
      "source": [
        "1.- El objetivo del ejercicio es crear un sistema de calificaciones, como sigue:\n",
        "\n",
        "El usuario proporcionará un valor entre 0 y 10.\n",
        "\n",
        "Si está entre 9 y 10: imprimir una A\n",
        "\n",
        "Si está entre 8 y menor a 9: imprimir una B\n",
        "\n",
        "Si está entre 7 y menor a 8: imprimir una C\n",
        "\n",
        "Si está entre 6 y menor a 7: imprimir una D\n",
        "\n",
        "Si está entre 0 y menor a 6: imprimir una F\n",
        "\n",
        "cualquier otro valor debe imprimir: Valor incorrecto\n",
        "\n",
        "Por ejemplo: Proporciona un valor entre 0 y 10: A"
      ],
      "metadata": {
        "id": "siypbqGTJ14R"
      }
    },
    {
      "cell_type": "code",
      "source": [
        "num=int(input(\"dime un numero entre 1 y 10 \" ))"
      ],
      "metadata": {
        "colab": {
          "base_uri": "https://localhost:8080/"
        },
        "id": "U_kOySCdJ_CD",
        "outputId": "61510e58-bd60-436b-f04c-98b4198f3c54"
      },
      "execution_count": 1,
      "outputs": [
        {
          "name": "stdout",
          "output_type": "stream",
          "text": [
            "dime un numero entre 1 y 10 10\n"
          ]
        }
      ]
    },
    {
      "cell_type": "code",
      "source": [
        "if num >= 9 and num <=10:\n",
        "  print(\"A\")\n",
        "elif num >=8 and num < 9:\n",
        "  print(\"B\")\n",
        "elif num >= 7 and num < 8:\n",
        "  print(\"C\")\n",
        "elif num >=6 and num < 7:\n",
        "  print(\"D\")\n",
        "elif num >=0 and num < 6:\n",
        "  print(\"F\")\n",
        "else:\n",
        "    print(\"Valor desconocido\")"
      ],
      "metadata": {
        "colab": {
          "base_uri": "https://localhost:8080/"
        },
        "id": "hvsATpODKHtS",
        "outputId": "d782d0ec-dc49-4915-b0fa-a7738c1930bd"
      },
      "execution_count": 2,
      "outputs": [
        {
          "output_type": "stream",
          "name": "stdout",
          "text": [
            "A\n"
          ]
        }
      ]
    },
    {
      "cell_type": "markdown",
      "source": [
        "2.- Imprimir los números enteros del 0 al 5 utilizando un ciclo while."
      ],
      "metadata": {
        "id": "oRghgFLSKbFy"
      }
    },
    {
      "cell_type": "code",
      "source": [
        "\n",
        "i = 0\n",
        "while i < 6:\n",
        "  print(i)\n",
        "  i += 1\n",
        "\n"
      ],
      "metadata": {
        "colab": {
          "base_uri": "https://localhost:8080/"
        },
        "id": "R_1qNdOBKkOy",
        "outputId": "d5610274-060f-466e-9740-ae04508dc9bb"
      },
      "execution_count": 39,
      "outputs": [
        {
          "output_type": "stream",
          "name": "stdout",
          "text": [
            "0\n",
            "1\n",
            "2\n",
            "3\n",
            "4\n",
            "5\n"
          ]
        }
      ]
    },
    {
      "cell_type": "markdown",
      "source": [
        "1. Iterar un rango de 0 a 10 e imprimir números divisibles entre 3\n",
        "2. Crear un rango de numeros de 2 a 6, e imprimelos\n",
        "3. Crear un rango de 3 a 10, pero con incremento de 2 en 2, en lugar de 1 en 1"
      ],
      "metadata": {
        "id": "fLFeqefEKwLj"
      }
    },
    {
      "cell_type": "code",
      "source": [
        "#1.\n",
        "for i in range(11):\n",
        "  if i % 3==0:\n",
        "    print(i)"
      ],
      "metadata": {
        "colab": {
          "base_uri": "https://localhost:8080/"
        },
        "id": "O9xE2W1lKyZB",
        "outputId": "19711129-f3b7-44e6-a311-ca2c9ce08718"
      },
      "execution_count": 6,
      "outputs": [
        {
          "output_type": "stream",
          "name": "stdout",
          "text": [
            "0\n",
            "3\n",
            "6\n",
            "9\n"
          ]
        }
      ]
    },
    {
      "cell_type": "code",
      "source": [
        "#2.\n",
        "for i in range (2,7):\n",
        "  print(i)"
      ],
      "metadata": {
        "colab": {
          "base_uri": "https://localhost:8080/"
        },
        "id": "Ps1KmixVLqdj",
        "outputId": "d4813f72-cff6-4126-e000-7f1342fcfd77"
      },
      "execution_count": 7,
      "outputs": [
        {
          "output_type": "stream",
          "name": "stdout",
          "text": [
            "2\n",
            "3\n",
            "4\n",
            "5\n",
            "6\n"
          ]
        }
      ]
    },
    {
      "cell_type": "code",
      "source": [
        "#3.\n",
        "for i in range(3,11,2):\n",
        "  print(i)\n",
        " \n"
      ],
      "metadata": {
        "colab": {
          "base_uri": "https://localhost:8080/"
        },
        "id": "CmbH_qDqL5Ss",
        "outputId": "a8a7df6a-28eb-465d-91f5-f8359b477611"
      },
      "execution_count": 16,
      "outputs": [
        {
          "output_type": "stream",
          "name": "stdout",
          "text": [
            "3\n",
            "5\n",
            "7\n",
            "9\n"
          ]
        }
      ]
    },
    {
      "cell_type": "markdown",
      "source": [
        "Listas y Tuplas\n",
        "\n",
        "1.- Dada la siguiente tupla, crear una lista que sólo incluya los números menores a 5.\n",
        "\n",
        "tupla = (13, 1, 8, 3, 2, 5, 8)"
      ],
      "metadata": {
        "id": "zb2OAPHENHPg"
      }
    },
    {
      "cell_type": "code",
      "source": [
        "tupla = (13, 1, 8, 3, 2, 5, 8)\n",
        "print(tupla)"
      ],
      "metadata": {
        "colab": {
          "base_uri": "https://localhost:8080/"
        },
        "id": "qCxOEVnrNNvx",
        "outputId": "e55449f6-dbbc-4047-d4fd-66c97851b6fc"
      },
      "execution_count": 17,
      "outputs": [
        {
          "output_type": "stream",
          "name": "stdout",
          "text": [
            "(13, 1, 8, 3, 2, 5, 8)\n"
          ]
        }
      ]
    },
    {
      "cell_type": "code",
      "source": [
        "#declaro la lista que voy a rellenar con numeros menores a 5\n",
        "lista=[]\n",
        "#recorro la tupla con los numeros disponible\n",
        "for i in tupla:\n",
        "#pongo la condicion menor que 5\n",
        "  if i<5:\n",
        "#añado a la lista los numeros menores que 5 (la i equivale a cada valor de mi tupla)\n",
        "   lista.append(i)\n",
        "#ordeno la lista\n",
        "   lista.sort()\n",
        "\n",
        "print(lista)\n",
        "\n",
        "\n",
        "\n"
      ],
      "metadata": {
        "colab": {
          "base_uri": "https://localhost:8080/"
        },
        "id": "7ZGQlHJJNX2a",
        "outputId": "eb961f2d-3e44-4f95-e34b-0e3900f6a6e2"
      },
      "execution_count": 38,
      "outputs": [
        {
          "output_type": "stream",
          "name": "stdout",
          "text": [
            "[1, 2, 3]\n"
          ]
        }
      ]
    }
  ]
}