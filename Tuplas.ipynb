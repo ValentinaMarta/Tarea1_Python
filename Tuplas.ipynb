{
  "nbformat": 4,
  "nbformat_minor": 0,
  "metadata": {
    "colab": {
      "name": "Tuplas.ipynb",
      "provenance": [],
      "collapsed_sections": [],
      "authorship_tag": "ABX9TyMZy7Un7K6c06vP/8kyouL0",
      "include_colab_link": true
    },
    "kernelspec": {
      "name": "python3",
      "display_name": "Python 3"
    },
    "language_info": {
      "name": "python"
    }
  },
  "cells": [
    {
      "cell_type": "markdown",
      "metadata": {
        "id": "view-in-github",
        "colab_type": "text"
      },
      "source": [
        "<a href=\"https://colab.research.google.com/github/ValentinaMarta/Tarea1_Python/blob/main/Tuplas.ipynb\" target=\"_parent\"><img src=\"https://colab.research.google.com/assets/colab-badge.svg\" alt=\"Open In Colab\"/></a>"
      ]
    },
    {
      "cell_type": "markdown",
      "source": [
        "Tuplas"
      ],
      "metadata": {
        "id": "eVJZSGHCvaQB"
      }
    },
    {
      "cell_type": "code",
      "source": [
        "#Definir una tupla\n",
        "nombres = ('Alex', 'Raúl', 'Eduardo','Jimena','Marta','Raquel','Amelia')\n",
        "print(nombres)"
      ],
      "metadata": {
        "colab": {
          "base_uri": "https://localhost:8080/"
        },
        "id": "ufg3kTcDvelM",
        "outputId": "28dc35ae-df74-4dcd-8ae9-beb065b60072"
      },
      "execution_count": 2,
      "outputs": [
        {
          "output_type": "stream",
          "name": "stdout",
          "text": [
            "('Alex', 'Raúl', 'Eduardo', 'Jimena', 'Marta', 'Raquel', 'Amelia')\n"
          ]
        }
      ]
    },
    {
      "cell_type": "code",
      "source": [
        "#muestra la longitud de la tupla del 1 al ultimo-->esto no lo entiendo muy bien (porque empieza en 1)\n",
        "print(len(nombres))"
      ],
      "metadata": {
        "colab": {
          "base_uri": "https://localhost:8080/"
        },
        "id": "gD8lipBVwGlD",
        "outputId": "fa742854-7114-4d25-a9c7-e7217fa60537"
      },
      "execution_count": 3,
      "outputs": [
        {
          "output_type": "stream",
          "name": "stdout",
          "text": [
            "7\n"
          ]
        }
      ]
    },
    {
      "cell_type": "code",
      "source": [
        "#acceder a un elemento,empieza a contar de 0\n",
        "print(nombres[4])"
      ],
      "metadata": {
        "colab": {
          "base_uri": "https://localhost:8080/"
        },
        "id": "P9Hzf6K3wgC7",
        "outputId": "5348d77c-9519-40a1-8c63-c064bc42fbd8"
      },
      "execution_count": 4,
      "outputs": [
        {
          "output_type": "stream",
          "name": "stdout",
          "text": [
            "Marta\n"
          ]
        }
      ]
    },
    {
      "cell_type": "code",
      "source": [
        "# navegación inversa, empieza a contar desde -1\n",
        "print(nombres[-3])"
      ],
      "metadata": {
        "colab": {
          "base_uri": "https://localhost:8080/"
        },
        "id": "XjBJ1_X-wu90",
        "outputId": "e4118e86-37a2-4d14-e4b6-1803eae2970b"
      },
      "execution_count": 8,
      "outputs": [
        {
          "output_type": "stream",
          "name": "stdout",
          "text": [
            "Marta\n"
          ]
        }
      ]
    },
    {
      "cell_type": "code",
      "source": [
        "# acceder a un rango\n",
        "print(nombres[2:3])# sin incluir el último índice"
      ],
      "metadata": {
        "colab": {
          "base_uri": "https://localhost:8080/"
        },
        "id": "YG9Y9OtVxHYL",
        "outputId": "3abab4d3-cdc5-4270-80f0-be4f96531c66"
      },
      "execution_count": 9,
      "outputs": [
        {
          "output_type": "stream",
          "name": "stdout",
          "text": [
            "('Eduardo',)\n"
          ]
        }
      ]
    },
    {
      "cell_type": "code",
      "source": [
        "#recorre tupla e imprime el valor de cada elemento sin coma ni comillas\n",
        "for i in nombres:\n",
        "    print(i, end=' ')"
      ],
      "metadata": {
        "colab": {
          "base_uri": "https://localhost:8080/"
        },
        "id": "J1sfdhKExMJz",
        "outputId": "f25654f1-8cf3-4ba6-a593-ab213b7db1dd"
      },
      "execution_count": 10,
      "outputs": [
        {
          "output_type": "stream",
          "name": "stdout",
          "text": [
            "Alex Raúl Eduardo Jimena Marta Raquel Amelia "
          ]
        }
      ]
    },
    {
      "cell_type": "code",
      "source": [
        "#convertir una tupla en lista\n",
        "listaNombres = list(nombres)\n",
        "print(listaNombres)"
      ],
      "metadata": {
        "colab": {
          "base_uri": "https://localhost:8080/"
        },
        "id": "3Nmb5oAVxg_0",
        "outputId": "57cf1c92-91b4-4ca1-ea07-ce584f2d96a6"
      },
      "execution_count": 17,
      "outputs": [
        {
          "output_type": "stream",
          "name": "stdout",
          "text": [
            "['Alex', 'Raúl', 'Eduardo', 'Jimena', 'Marta', 'Raquel', 'Amelia']\n"
          ]
        }
      ]
    },
    {
      "cell_type": "code",
      "source": [
        "#insertamos un elemento en una posicion determinada\n",
        "listaNombres[0]='nombre prueba'\n",
        "print(listaNombres)\n",
        "listaNombres[3]='nombre prueba posicion 3'\n",
        "print(listaNombres)"
      ],
      "metadata": {
        "colab": {
          "base_uri": "https://localhost:8080/"
        },
        "id": "hCse3F0mxulj",
        "outputId": "227be659-29f0-4e46-d36b-e59ca83f9cdd"
      },
      "execution_count": 18,
      "outputs": [
        {
          "output_type": "stream",
          "name": "stdout",
          "text": [
            "['nombre prueba', 'Raúl', 'Eduardo', 'Jimena', 'Marta', 'Raquel', 'Amelia']\n",
            "['nombre prueba', 'Raúl', 'Eduardo', 'nombre prueba posicion 3', 'Marta', 'Raquel', 'Amelia']\n"
          ]
        }
      ]
    },
    {
      "cell_type": "code",
      "source": [
        "#convertir una lista en tupla\n",
        "nombres = tuple(listaNombres)\n",
        "print(nombres)"
      ],
      "metadata": {
        "colab": {
          "base_uri": "https://localhost:8080/"
        },
        "id": "9R1TCsMbyLCp",
        "outputId": "54571d95-637c-4a48-fe8a-5c66b946d051"
      },
      "execution_count": 20,
      "outputs": [
        {
          "output_type": "stream",
          "name": "stdout",
          "text": [
            "('nombre prueba', 'Raúl', 'Eduardo', 'nombre prueba posicion 3', 'Marta', 'Raquel', 'Amelia')\n"
          ]
        }
      ]
    },
    {
      "cell_type": "code",
      "source": [
        "#cambiar valor tupla, en la posicion 0 cambiamos 'nombre prueba' por 'Africa'\n",
        "listaNombres = list(nombres)\n",
        "listaNombres[0] = 'Africa'\n",
        "nombres = tuple(listaNombres)\n",
        "print(nombres)\n",
        "#imprime con salto de linea\n",
        "for i in nombres:\n",
        "  print(i)\n",
        "#mostrar posiciones de la tupla\n",
        "for i in range(len(nombres)):\n",
        "  print(i,end=\" \")"
      ],
      "metadata": {
        "colab": {
          "base_uri": "https://localhost:8080/"
        },
        "id": "FyC6gS5NzBEl",
        "outputId": "314fe076-265e-4b3f-97fa-9fe0f7488806"
      },
      "execution_count": 34,
      "outputs": [
        {
          "output_type": "stream",
          "name": "stdout",
          "text": [
            "('Africa', 'Raúl', 'Eduardo', 'nombre prueba posicion 3', 'Marta', 'Raquel', 'Amelia')\n",
            "Africa\n",
            "Raúl\n",
            "Eduardo\n",
            "nombre prueba posicion 3\n",
            "Marta\n",
            "Raquel\n",
            "Amelia\n",
            "0 1 2 3 4 5 6 "
          ]
        }
      ]
    },
    {
      "cell_type": "code",
      "source": [
        "#Eliminar una tupla\n",
        "del nombres\n",
        "#si fueramos a imprimir ahora daria error porque ya no existe"
      ],
      "metadata": {
        "colab": {
          "base_uri": "https://localhost:8080/",
          "height": 204
        },
        "id": "uS00_2fS1Pbq",
        "outputId": "5f997e11-9a6a-4340-e632-c86f28cd67d5"
      },
      "execution_count": 36,
      "outputs": [
        {
          "output_type": "error",
          "ename": "NameError",
          "evalue": "ignored",
          "traceback": [
            "\u001b[0;31m---------------------------------------------------------------------------\u001b[0m",
            "\u001b[0;31mNameError\u001b[0m                                 Traceback (most recent call last)",
            "\u001b[0;32m<ipython-input-36-b2c92b080a35>\u001b[0m in \u001b[0;36m<module>\u001b[0;34m()\u001b[0m\n\u001b[1;32m      1\u001b[0m \u001b[0;31m#Eliminar una tupla\u001b[0m\u001b[0;34m\u001b[0m\u001b[0;34m\u001b[0m\u001b[0;34m\u001b[0m\u001b[0m\n\u001b[0;32m----> 2\u001b[0;31m \u001b[0;32mdel\u001b[0m \u001b[0mnombres\u001b[0m\u001b[0;34m\u001b[0m\u001b[0;34m\u001b[0m\u001b[0m\n\u001b[0m\u001b[1;32m      3\u001b[0m \u001b[0;31m#si fueramos a imprimir ahora daria error porque ya no existe\u001b[0m\u001b[0;34m\u001b[0m\u001b[0;34m\u001b[0m\u001b[0;34m\u001b[0m\u001b[0m\n",
            "\u001b[0;31mNameError\u001b[0m: name 'nombres' is not defined"
          ]
        }
      ]
    }
  ]
}