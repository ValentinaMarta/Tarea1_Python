{
  "nbformat": 4,
  "nbformat_minor": 0,
  "metadata": {
    "colab": {
      "name": "Listas.ipynb",
      "provenance": [],
      "collapsed_sections": [],
      "authorship_tag": "ABX9TyMoFHUC3ZYTtGnW+LMOOUbT",
      "include_colab_link": true
    },
    "kernelspec": {
      "name": "python3",
      "display_name": "Python 3"
    },
    "language_info": {
      "name": "python"
    }
  },
  "cells": [
    {
      "cell_type": "markdown",
      "metadata": {
        "id": "view-in-github",
        "colab_type": "text"
      },
      "source": [
        "<a href=\"https://colab.research.google.com/github/ValentinaMarta/Tarea1_Python/blob/main/Listas.ipynb\" target=\"_parent\"><img src=\"https://colab.research.google.com/assets/colab-badge.svg\" alt=\"Open In Colab\"/></a>"
      ]
    },
    {
      "cell_type": "markdown",
      "source": [
        "Listas"
      ],
      "metadata": {
        "id": "4qxyH9Qe13R7"
      }
    },
    {
      "cell_type": "code",
      "source": [
        "# Definir una lista de tipo String\n",
        "nombres = ['Alicia','Chantell','Roxana', 'Oliris']\n",
        "# imprimir la lista nombres\n",
        "print(nombres)\n",
        "# Definir una lista de tipo int\n",
        "numeros = [1,2,4,8,99,0,34,556,0]\n",
        "print(numeros)"
      ],
      "metadata": {
        "colab": {
          "base_uri": "https://localhost:8080/"
        },
        "id": "luBo2te-17tr",
        "outputId": "1de774c0-3355-44d9-9f71-04100308a9aa"
      },
      "execution_count": 37,
      "outputs": [
        {
          "output_type": "stream",
          "name": "stdout",
          "text": [
            "['Alicia', 'Chantell', 'Roxana', 'Oliris']\n",
            "[1, 2, 4, 8, 99, 0, 34, 556, 0]\n"
          ]
        }
      ]
    },
    {
      "cell_type": "code",
      "source": [
        "# acceder a los elementos de un a lista\n",
        "print(nombres[0])\n",
        "print(numeros[7])"
      ],
      "metadata": {
        "colab": {
          "base_uri": "https://localhost:8080/"
        },
        "id": "E9UjOCV92QkS",
        "outputId": "1728973a-7a00-48db-f53d-c29c9dce1433"
      },
      "execution_count": 38,
      "outputs": [
        {
          "output_type": "stream",
          "name": "stdout",
          "text": [
            "Alicia\n",
            "556\n"
          ]
        }
      ]
    },
    {
      "cell_type": "code",
      "source": [
        "# acceder a los elementos de manera inversa\n",
        "print(nombres[-4])\n",
        "print(numeros[-2])"
      ],
      "metadata": {
        "colab": {
          "base_uri": "https://localhost:8080/"
        },
        "id": "mlJey_Hg2XBy",
        "outputId": "2d7940c5-9b0c-4ef9-d259-6155cdf91ce4"
      },
      "execution_count": 39,
      "outputs": [
        {
          "output_type": "stream",
          "name": "stdout",
          "text": [
            "Alicia\n",
            "556\n"
          ]
        }
      ]
    },
    {
      "cell_type": "code",
      "source": [
        "#imprime 0,1,2 la posicion 3 no la imprime\n",
        "print(nombres[0:3]) \n",
        "#imprime 1,2 la posicion 3 no la imprime\n",
        "print(numeros[1:3])\n",
        "#imprime -3 y -4 la -1 y -2 no la imprime\n",
        "print(nombres[:-2])\n",
        "#imprime hasta la posicion 3(no incluida)\n",
        "print(numeros[:3])"
      ],
      "metadata": {
        "colab": {
          "base_uri": "https://localhost:8080/"
        },
        "id": "Dit6WOFr2iMy",
        "outputId": "3259b411-27c7-4aba-ec88-b9498d2a22d7"
      },
      "execution_count": 40,
      "outputs": [
        {
          "output_type": "stream",
          "name": "stdout",
          "text": [
            "['Alicia', 'Chantell', 'Roxana']\n",
            "[2, 4]\n",
            "['Alicia', 'Chantell']\n",
            "[1, 2, 4]\n"
          ]
        }
      ]
    },
    {
      "cell_type": "code",
      "source": [
        "print(nombres)\n",
        "print(numeros)\n",
        "#inserta un nuevo valor en una posicion\n",
        "nombres.insert(3, \"Oliris\") \n",
        "numeros.insert(3, 100) \n",
        "print(numeros)\n",
        "#borra todo lo que hay a partir de la posicion 3\n",
        "del numeros[3:]\n",
        "print(nombres)\n",
        "print(numeros)\n",
        "#limpia la lista pero no la borra\n",
        "nombres.clear()\n",
        "numeros.clear()\n",
        "print(nombres)\n",
        "print(numeros)\n",
        "\n"
      ],
      "metadata": {
        "colab": {
          "base_uri": "https://localhost:8080/"
        },
        "id": "y5OBaJJP3f0D",
        "outputId": "fe70013c-98b3-4db9-c025-b2a8a1409ec9"
      },
      "execution_count": 41,
      "outputs": [
        {
          "output_type": "stream",
          "name": "stdout",
          "text": [
            "['Alicia', 'Chantell', 'Roxana', 'Oliris']\n",
            "[1, 2, 4, 8, 99, 0, 34, 556, 0]\n",
            "[1, 2, 4, 100, 8, 99, 0, 34, 556, 0]\n",
            "['Alicia', 'Chantell', 'Roxana', 'Oliris', 'Oliris']\n",
            "[1, 2, 4]\n",
            "[]\n",
            "[]\n"
          ]
        }
      ]
    },
    {
      "cell_type": "code",
      "source": [
        "# borrar la lista por completo\n",
        "del nombres\n",
        "del numeros"
      ],
      "metadata": {
        "id": "sOcx2JAN5wIy"
      },
      "execution_count": 42,
      "outputs": []
    }
  ]
}