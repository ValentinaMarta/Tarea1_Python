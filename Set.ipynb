{
  "nbformat": 4,
  "nbformat_minor": 0,
  "metadata": {
    "colab": {
      "name": "Set.ipynb",
      "provenance": [],
      "collapsed_sections": [],
      "authorship_tag": "ABX9TyPXLKwVAFjzNwJlEhunjVQ3",
      "include_colab_link": true
    },
    "kernelspec": {
      "name": "python3",
      "display_name": "Python 3"
    },
    "language_info": {
      "name": "python"
    }
  },
  "cells": [
    {
      "cell_type": "markdown",
      "metadata": {
        "id": "view-in-github",
        "colab_type": "text"
      },
      "source": [
        "<a href=\"https://colab.research.google.com/github/ValentinaMarta/Tarea1_Python/blob/main/Set.ipynb\" target=\"_parent\"><img src=\"https://colab.research.google.com/assets/colab-badge.svg\" alt=\"Open In Colab\"/></a>"
      ]
    },
    {
      "cell_type": "markdown",
      "source": [
        "Set"
      ],
      "metadata": {
        "id": "_tETQCQkHdlV"
      }
    },
    {
      "cell_type": "code",
      "source": [
        "#Declarar set\n",
        "planetas = {'Marte', 'Júpiter', 'Venus'}\n",
        "print(planetas)\n",
        "#nos devuelve la cantidad de elementos del set\n",
        "print(len(planetas))"
      ],
      "metadata": {
        "colab": {
          "base_uri": "https://localhost:8080/"
        },
        "id": "mQ31fBeZHiO9",
        "outputId": "67e987ea-4050-4970-9c00-4e1e11933974"
      },
      "execution_count": 1,
      "outputs": [
        {
          "output_type": "stream",
          "name": "stdout",
          "text": [
            "{'Venus', 'Marte', 'Júpiter'}\n",
            "3\n"
          ]
        }
      ]
    },
    {
      "cell_type": "code",
      "source": [
        "# buscando un elemento\n",
        "print('Venus' in planetas)"
      ],
      "metadata": {
        "colab": {
          "base_uri": "https://localhost:8080/"
        },
        "id": "7eZIrBzGH6qu",
        "outputId": "a03d8487-5179-4870-e14c-5db582db203c"
      },
      "execution_count": 2,
      "outputs": [
        {
          "output_type": "stream",
          "name": "stdout",
          "text": [
            "True\n"
          ]
        }
      ]
    },
    {
      "cell_type": "code",
      "source": [
        "# añadir un elemento\n",
        "planetas.add('Tierra')\n",
        "print( planetas)"
      ],
      "metadata": {
        "colab": {
          "base_uri": "https://localhost:8080/"
        },
        "id": "Bt_OgRhtH_t-",
        "outputId": "86cffb0f-99d3-4aa0-fb56-afae6cb2c6a1"
      },
      "execution_count": 3,
      "outputs": [
        {
          "output_type": "stream",
          "name": "stdout",
          "text": [
            "{'Venus', 'Marte', 'Júpiter', 'Tierra'}\n"
          ]
        }
      ]
    },
    {
      "cell_type": "code",
      "source": [
        "#si intentamos añadir un elemento con el mimo nombre que ya tenemos, no da error \n",
        "#pero no se añadiaria ya que no duplica elementos\n",
        "planetas.add('Tierra')\n",
        "print(planetas)"
      ],
      "metadata": {
        "colab": {
          "base_uri": "https://localhost:8080/"
        },
        "id": "xkxWAvEzIE-V",
        "outputId": "9e43d6ee-3aab-4107-f4c4-a0fcee9b61f1"
      },
      "execution_count": 4,
      "outputs": [
        {
          "output_type": "stream",
          "name": "stdout",
          "text": [
            "{'Venus', 'Marte', 'Júpiter', 'Tierra'}\n"
          ]
        }
      ]
    },
    {
      "cell_type": "code",
      "source": [
        "# .remove elimina elementos existentes, \n",
        "#si el elemento que querramos eliminar no existiese\n",
        "#saltaria un error \n",
        "planetas.remove('Prueba')\n",
        "print(planetas)"
      ],
      "metadata": {
        "colab": {
          "base_uri": "https://localhost:8080/",
          "height": 222
        },
        "id": "o3LQDri8Ii12",
        "outputId": "42d1e039-53f3-45ab-8c84-35418f043b63"
      },
      "execution_count": 11,
      "outputs": [
        {
          "output_type": "error",
          "ename": "KeyError",
          "evalue": "ignored",
          "traceback": [
            "\u001b[0;31m---------------------------------------------------------------------------\u001b[0m",
            "\u001b[0;31mKeyError\u001b[0m                                  Traceback (most recent call last)",
            "\u001b[0;32m<ipython-input-11-6c08272e0fa2>\u001b[0m in \u001b[0;36m<module>\u001b[0;34m()\u001b[0m\n\u001b[1;32m      2\u001b[0m \u001b[0;31m#si el elemento que querramos eliminar no existiese\u001b[0m\u001b[0;34m\u001b[0m\u001b[0;34m\u001b[0m\u001b[0;34m\u001b[0m\u001b[0m\n\u001b[1;32m      3\u001b[0m \u001b[0;31m#saltaria un error\u001b[0m\u001b[0;34m\u001b[0m\u001b[0;34m\u001b[0m\u001b[0;34m\u001b[0m\u001b[0m\n\u001b[0;32m----> 4\u001b[0;31m \u001b[0mplanetas\u001b[0m\u001b[0;34m.\u001b[0m\u001b[0mremove\u001b[0m\u001b[0;34m(\u001b[0m\u001b[0;34m'Prueba'\u001b[0m\u001b[0;34m)\u001b[0m\u001b[0;34m\u001b[0m\u001b[0;34m\u001b[0m\u001b[0m\n\u001b[0m\u001b[1;32m      5\u001b[0m \u001b[0mprint\u001b[0m\u001b[0;34m(\u001b[0m\u001b[0mplanetas\u001b[0m\u001b[0;34m)\u001b[0m\u001b[0;34m\u001b[0m\u001b[0;34m\u001b[0m\u001b[0m\n",
            "\u001b[0;31mKeyError\u001b[0m: 'Prueba'"
          ]
        }
      ]
    },
    {
      "cell_type": "code",
      "source": [
        "#.discard elimina elementos, si el elemento que \n",
        "#quisieramos eleminar no existe, No salta ningun tipo de error\n",
        "planetas.discard('Prueba')\n",
        "print(planetas)"
      ],
      "metadata": {
        "colab": {
          "base_uri": "https://localhost:8080/"
        },
        "id": "hpMWix1BJWEY",
        "outputId": "d29d7729-d4c2-4eb4-ee4a-3cf8db0c8c5a"
      },
      "execution_count": 10,
      "outputs": [
        {
          "output_type": "stream",
          "name": "stdout",
          "text": [
            "{'Marte', 'Júpiter', 'Tierra'}\n"
          ]
        }
      ]
    },
    {
      "cell_type": "code",
      "source": [
        "# limpiar set\n",
        "planetas.clear()\n",
        "print(planetas)"
      ],
      "metadata": {
        "colab": {
          "base_uri": "https://localhost:8080/"
        },
        "id": "IrHc0RaRJsGu",
        "outputId": "b68ea176-a9e9-4be6-a10e-fc5c124a8e80"
      },
      "execution_count": 12,
      "outputs": [
        {
          "output_type": "stream",
          "name": "stdout",
          "text": [
            "set()\n"
          ]
        }
      ]
    },
    {
      "cell_type": "code",
      "source": [
        "#no entiendo muy bien como funcciona el .update\n",
        "planetas.update(['tierra','jupiter', 3])\n",
        "print(planetas)"
      ],
      "metadata": {
        "colab": {
          "base_uri": "https://localhost:8080/"
        },
        "id": "d4ha7EB_Ju22",
        "outputId": "1849c26b-2770-4f1c-a360-fb0b07f82978"
      },
      "execution_count": 13,
      "outputs": [
        {
          "output_type": "stream",
          "name": "stdout",
          "text": [
            "{'tierra', 3, 'jupiter'}\n"
          ]
        }
      ]
    },
    {
      "cell_type": "code",
      "source": [
        "#no entiendo muy bien como funcciona el .update\n",
        "planetas.update(['Marte', 'Júpiter', 'Venus', 4])\n",
        "print(planetas)"
      ],
      "metadata": {
        "colab": {
          "base_uri": "https://localhost:8080/"
        },
        "id": "QGlR2G1xKNtl",
        "outputId": "d5c902f2-1b1e-4ed6-8df6-89f49b8242ab"
      },
      "execution_count": 14,
      "outputs": [
        {
          "output_type": "stream",
          "name": "stdout",
          "text": [
            "{3, 4, 'jupiter', 'Venus', 'tierra', 'Marte', 'Júpiter'}\n"
          ]
        }
      ]
    },
    {
      "cell_type": "code",
      "source": [
        "# eliminar el set\n",
        "del planetas"
      ],
      "metadata": {
        "id": "Ws2BkSOYKioM"
      },
      "execution_count": 15,
      "outputs": []
    }
  ]
}