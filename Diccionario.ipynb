{
  "nbformat": 4,
  "nbformat_minor": 0,
  "metadata": {
    "colab": {
      "name": "Diccionario.ipynb",
      "provenance": [],
      "collapsed_sections": [],
      "authorship_tag": "ABX9TyNyr+uTcBuibveYnJuiC63w",
      "include_colab_link": true
    },
    "kernelspec": {
      "name": "python3",
      "display_name": "Python 3"
    },
    "language_info": {
      "name": "python"
    }
  },
  "cells": [
    {
      "cell_type": "markdown",
      "metadata": {
        "id": "view-in-github",
        "colab_type": "text"
      },
      "source": [
        "<a href=\"https://colab.research.google.com/github/ValentinaMarta/Tarea1_Python/blob/main/Diccionario.ipynb\" target=\"_parent\"><img src=\"https://colab.research.google.com/assets/colab-badge.svg\" alt=\"Open In Colab\"/></a>"
      ]
    },
    {
      "cell_type": "markdown",
      "source": [
        "Diccionario"
      ],
      "metadata": {
        "id": "Vv7KD79KK6Nk"
      }
    },
    {
      "cell_type": "code",
      "source": [
        "# diccionario (key, value)->>nombre del diccionario(clave,valor)\n",
        "diccionario = {\n",
        "    '1':'Frambuesas',\n",
        "    '2':'Fresas',\n",
        "    '3':'Arandanos'\n",
        "}\n",
        "print(diccionario)\n",
        "#len devuelve el numero de elementos del diccionaio\n",
        "print(len(diccionario))"
      ],
      "metadata": {
        "colab": {
          "base_uri": "https://localhost:8080/"
        },
        "id": "VFDX4QVdK95k",
        "outputId": "7b490f74-397d-433c-f4cc-9f9fdb0c6bac"
      },
      "execution_count": 17,
      "outputs": [
        {
          "output_type": "stream",
          "name": "stdout",
          "text": [
            "{'1': 'Frambuesas', '2': 'Fresas', '3': 'Arandanos'}\n",
            "3\n"
          ]
        }
      ]
    },
    {
      "cell_type": "code",
      "source": [
        "# acceder a un elemento buscando por clave\n",
        "print( diccionario['3'])\n",
        "# otra forma de recuperar un elemento\n",
        "print(diccionario.get('3'))"
      ],
      "metadata": {
        "colab": {
          "base_uri": "https://localhost:8080/"
        },
        "id": "cdQPHIK2Lw7U",
        "outputId": "1dbc59bb-3d8e-448c-cc41-02cc56f5e34d"
      },
      "execution_count": 18,
      "outputs": [
        {
          "output_type": "stream",
          "name": "stdout",
          "text": [
            "Arandanos\n",
            "Arandanos\n"
          ]
        }
      ]
    },
    {
      "cell_type": "code",
      "source": [
        "# recorrer los elementos\n",
        "#->por cada elemento busca por la clave en este caso t\n",
        "# su elemento, en este caso v\n",
        "#imprime cada elemento con su clave\n",
        "for t, v in diccionario.items():\n",
        "    print(t,v)"
      ],
      "metadata": {
        "colab": {
          "base_uri": "https://localhost:8080/"
        },
        "id": "VLUp9rYsLySR",
        "outputId": "dc5d7e60-5871-4db4-ef09-a09d76ca79f0"
      },
      "execution_count": 19,
      "outputs": [
        {
          "output_type": "stream",
          "name": "stdout",
          "text": [
            "1 Frambuesas\n",
            "2 Fresas\n",
            "3 Arandanos\n"
          ]
        }
      ]
    },
    {
      "cell_type": "code",
      "source": [
        "#busca claves y las imprime\n",
        "for j in diccionario.keys():\n",
        "    print(j)"
      ],
      "metadata": {
        "colab": {
          "base_uri": "https://localhost:8080/"
        },
        "id": "pD6Tea4GMzb8",
        "outputId": "9f1e6c7a-8091-4203-f3b2-acefa8f9840c"
      },
      "execution_count": 20,
      "outputs": [
        {
          "output_type": "stream",
          "name": "stdout",
          "text": [
            "1\n",
            "2\n",
            "3\n"
          ]
        }
      ]
    },
    {
      "cell_type": "code",
      "source": [
        "# busca elementos por clave, nos devuelve true o false\n",
        "print('7' in diccionario)\n",
        "print('3' in diccionario)"
      ],
      "metadata": {
        "colab": {
          "base_uri": "https://localhost:8080/"
        },
        "id": "Pj3f964FNAxT",
        "outputId": "60550594-5cc6-4d7a-ee0e-afe6c6dba521"
      },
      "execution_count": 21,
      "outputs": [
        {
          "output_type": "stream",
          "name": "stdout",
          "text": [
            "False\n",
            "True\n"
          ]
        }
      ]
    },
    {
      "cell_type": "code",
      "source": [
        "# agregar un nuevo elemento, clave 100, elemento Fruta prueba\n",
        "diccionario['100'] = 'Fruta prueba'\n",
        "print(diccionario)"
      ],
      "metadata": {
        "colab": {
          "base_uri": "https://localhost:8080/"
        },
        "id": "9AfdHN7MNVMs",
        "outputId": "18daabf5-ef82-498b-aa4e-194648edb35b"
      },
      "execution_count": 22,
      "outputs": [
        {
          "output_type": "stream",
          "name": "stdout",
          "text": [
            "{'1': 'Frambuesas', '2': 'Fresas', '3': 'Arandanos', '100': 'Fruta prueba'}\n"
          ]
        }
      ]
    },
    {
      "cell_type": "code",
      "source": [
        "# remover un elemento por clave\n",
        "diccionario.pop('100')\n",
        "print(diccionario)"
      ],
      "metadata": {
        "colab": {
          "base_uri": "https://localhost:8080/"
        },
        "id": "gksCnDnJNkWl",
        "outputId": "8ffc4347-16b4-43cc-9435-49782600eef4"
      },
      "execution_count": 23,
      "outputs": [
        {
          "output_type": "stream",
          "name": "stdout",
          "text": [
            "{'1': 'Frambuesas', '2': 'Fresas', '3': 'Arandanos'}\n"
          ]
        }
      ]
    },
    {
      "cell_type": "code",
      "source": [
        "# limpiar\n",
        "diccionario.clear()\n",
        "print(diccionario)"
      ],
      "metadata": {
        "colab": {
          "base_uri": "https://localhost:8080/"
        },
        "id": "AuYm5Di4NrT7",
        "outputId": "0ad92a83-d28f-44ed-9631-d0c77b7412c9"
      },
      "execution_count": 24,
      "outputs": [
        {
          "output_type": "stream",
          "name": "stdout",
          "text": [
            "{}\n"
          ]
        }
      ]
    },
    {
      "cell_type": "code",
      "source": [
        "# eliminar el diccionario\n",
        "del diccionario"
      ],
      "metadata": {
        "id": "r-CO0GmVOIUT"
      },
      "execution_count": null,
      "outputs": []
    }
  ]
}